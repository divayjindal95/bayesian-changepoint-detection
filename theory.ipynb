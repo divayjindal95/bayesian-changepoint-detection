{
 "cells": [
  {
   "cell_type": "markdown",
   "metadata": {},
   "source": [
    "# Bayesian Change-Point Detection"
   ]
  },
  {
   "cell_type": "markdown",
   "metadata": {},
   "source": [
    "#### Pre-requisites"
   ]
  },
  {
   "cell_type": "markdown",
   "metadata": {},
   "source": [
    "Marginal Probability $P(x) = \\sum_{y}P(x,y)$<br>"
   ]
  },
  {
   "cell_type": "markdown",
   "metadata": {},
   "source": [
    "Conditional Probabilty $P(x | y) = \\frac{P(x,y)}{P(y)}$ "
   ]
  },
  {
   "cell_type": "markdown",
   "metadata": {},
   "source": [
    "Bayes Theorem\n",
    ">$P(\\theta | D ) \\propto P(D | \\theta) * P(\\theta)$ <br>\n",
    "$posterior = likelihood * prior$<br>\n",
    "<br>\n",
    "Lets try to define some distributions,<br>\n",
    "$D \\propto pdf(\\theta)$<br>\n",
    "$\\theta \\propto pdf(\\gamma)$<br>\n",
    "Now, $\\gamma$ is a hyperprior, which can either by a r.v or can be constant<br>\n",
    "So when we recieve data, we update our beliefs i.e hyperprior.<br>\n",
    "<br> \n",
    "Now when $\\gamma$ is not a r.v (i.e it does not follow any distribution), then:<br>\n",
    "$P(\\theta | D,\\gamma ) \\propto P(D | \\theta, \\gamma) * P(\\theta | \\gamma)$<br>\n",
    "$P(\\theta | D,\\gamma ) \\propto P(D | \\theta) * P(\\theta)$ , assuming D is independent of every thing when conditioned on $\\theta$,  this can go wrong is the data points are not iid, for example time series data with significant auto-correlation.<br>\n",
    "<br>\n",
    "When $\\gamma$ also follows a distribution, then:<br> \n",
    "$P(\\theta | D,\\gamma ) \\propto P(D | \\theta, \\gamma)*P(\\theta | \\gamma)$<br>\n",
    "$P(\\theta | D,\\gamma )*P(\\gamma) \\propto P(D | \\theta, \\gamma)*P(\\theta | \\gamma) * P(\\gamma)$<br>\n",
    "$P(\\theta,\\gamma | D ) \\propto P(D | \\theta, \\gamma)*P(\\theta | \\gamma) * P(\\gamma)$ , conditional probabilty<br>\n",
    "$P(\\theta,\\gamma | D ) \\propto P(D | \\theta)*P(\\theta | \\gamma) * P(\\gamma)$ , assuming D is independent of every thing when conditioned on $\\theta$<br>"
   ]
  },
  {
   "cell_type": "markdown",
   "metadata": {},
   "source": [
    "#### Whats the use?\n",
    "Economics, genetics, anomoly detection, stock market"
   ]
  },
  {
   "cell_type": "markdown",
   "metadata": {},
   "source": [
    "#### Definitions 1 :\n",
    "t : some time <br>\n",
    "$x_t$ : observed data at time t<br>\n",
    "$x_{1:t}$ : $x_1,x_2,....x_{t-1}, x_t$<br>\n",
    "$x_t^r$ : data points in current run<br>\n",
    "$r_t$ : run length at time t ( number of time points from last change point)<br>\n",
    "Change point is when $r_t = 0$"
   ]
  },
  {
   "cell_type": "markdown",
   "metadata": {},
   "source": [
    "#### What we want to achieve?\n",
    "We want to figure out if the recieved data point is a change point, i.e $P(r_t | x_{1:t})$<br>\n",
    "We want to be able to predict the next data point, i.e $P(x_{t+1} | x_{1:t})$"
   ]
  },
  {
   "cell_type": "markdown",
   "metadata": {},
   "source": [
    "#### Assumption 1 :\n",
    "Data can be divided into several partitions, data points in each partition are iid's, i.e $x_t^r \\propto pdf(\\eta)$<br>\n",
    "$x_t^r$ is conditionally independent of everything given $\\eta$<br>\n",
    "$r_t$ is conditionally independent of everything given $r_{t-1}$"
   ]
  },
  {
   "cell_type": "markdown",
   "metadata": {},
   "source": [
    "### Changepoint Detection"
   ]
  },
  {
   "cell_type": "markdown",
   "metadata": {},
   "source": [
    "$P(r_t,x_{1:t}) = \\sum_{r_{t-1}}P(r_t,x_{1:t}, r_{t-1})$ *this again from marginal distribution, P(A) = $\\sum_{\\forall b}P(A,B)$*<br>\n",
    "$P(r_t,x_{1:t}) = \\sum_{r_{t-1}}P(r_t,x_{1:t-1}, r_{t-1},x_t)$ *just split $x_{1:t}$*<br>\n",
    "$P(r_t,x_{1:t}) = \\sum_{r_{t-1}}P(r_t,x_t | x_{1:t-1}, r_{t-1})*P(x_{1:t-1}, r_{t-1})$ *this is just P(A,B) = P(A|B)P(B)*<br>\n",
    "\n",
    "\n",
    "$P(r_t,x_{1:t}) = \\sum_{r_{t-1}}P(x_t | r_t, x_{1:t-1}, r_{t-1})*P(r_t|x_{1:t-1}, r_{t-1})*P(x_{1:t-1}, r_{t-1})$ , using chain rule<br>\n",
    "$P(r_t,x_{1:t}) = \\sum_{r_{t-1}}P(r_t|r_{t-1})*P(x_t | x_{1:t-1}, r_{t-1})*P(x_{1:t-1}, r_{t-1})$ , *$r_t$ only depends on $r_{t-1}$*<br>\n",
    "$P(r_t,x_{1:t}) = \\sum_{r_{t-1}}P(r_t|r_{t-1})*P(x_t | x_{t-1}^{r_{t-1}}, r_{t-1})*P(x_{1:t-1}, r_{t-1})$\n",
    "\n",
    "We will now use the property of conjugate priors to find out $P(x_t | x_{t-1}^{r_{t-1}}, r_{t-1})$\\\n",
    "$P(x_t | x_{t-1}^{r_{t-1}}, r_{t-1}) = \\sum_{\\eta}P(x_t | x_{t-1}^{r_{t-1}}, r_{t-1}, \\eta)P(\\eta | x_{t-1}^{r_{t-1}}, r_{t-1})$, using marginal and chain<br>\n",
    "$P(x_t | x_{t-1}^{r_{t-1}}, r_{t-1}) = \\sum_{\\theta}P(x_t |\\theta)P(\\theta | x_{t-1}^{r_{t-1}}, r_{t-1})$, from our assumptions<br>\n",
    "$P(\\theta | x_{t-1}^{r_{t-1}}, r_{t-1},\\eta) = P(\\theta|\\eta^`)$, from conjugate priors where $\\eta$ is hyper param<br>\n",
    "$P(x_t | x_{t-1}^{r_{t-1}}, r_{t-1}) = \\sum_{\\theta}P(x_t |\\theta)P(\\theta | \\eta^`)$<br>\n",
    "$P(x_t | x_{t-1}^{r_{t-1}}, r_{t-1}) = P(x_t |\\eta^`)$\n",
    "\n",
    "hence finally we have,<br>\n",
    "$P(r_t,x_{1:t}) = \\sum_{r_{t-1}}P(r_t|r_{t-1})*P(x_t |\\eta^`)*P(x_{1:t-1}, r_{t-1})$<br>\n",
    "If you see this is a recurssive function which could be found out easily.<br>\n"
   ]
  },
  {
   "cell_type": "markdown",
   "metadata": {},
   "source": [
    "### Predictive Version"
   ]
  },
  {
   "cell_type": "markdown",
   "metadata": {},
   "source": [
    "This is the predictive version<br>\n",
    "\n",
    "$P(x_{t+1}|x_{1:t}) = \\sum_{r_t}P(x_{t+1}|r_t,x_{1:t})*P(r_t | x_{1:t})$ , this comes from conditional and marginal probability<br>\n",
    "\n",
    "Since $x_{t+1}$ only depend on $x_t^r$<br>\n",
    "$P(x_{t+1}|x_{1:t}) = \\sum_{r_t}P(x_{t+1}|r_t,x_t^r)*P(r_t | x_{1:t})$\n",
    "\n",
    "$P(r_t | x_{1:t}) = \\frac{P(r_t , x_{1:t})}{P(x_{1:t})}$, from bayes theorem\n",
    "\n",
    "Hence to have predictive version in place we need 3 things, $P(r_t , x_{1:t}), P(x_{1:t}), P(x_{t+1}|r_t,x_t^r)$<br>\n",
    "From above we have all 3."
   ]
  },
  {
   "cell_type": "markdown",
   "metadata": {},
   "source": [
    "### References \n",
    "\n",
    "https://nbviewer.jupyter.org/github/hildensia/bayesian_changepoint_detection/blob/master/Example%20Code.ipynb<br>\n",
    "https://arxiv.org/pdf/0710.3742.pdf<br>\n",
    "http://gregorygundersen.com/blog/2019/08/13/bocd/#:~:text=Bayesian%20online%20changepoint%20detection%20is,modularity%20and%20efficient%20parameter%20estimation<br>\n",
    "https://github.com/hildensia/bayesian_changepoint_detection/blob/master/bayesian_changepoint_detection/<br>\n",
    "https://en.wikipedia.org/wiki/Forward_algorithm#Algorithm<br>"
   ]
  },
  {
   "cell_type": "code",
   "execution_count": null,
   "metadata": {},
   "outputs": [],
   "source": []
  }
 ],
 "metadata": {
  "kernelspec": {
   "display_name": "Python 3",
   "language": "python",
   "name": "python3"
  },
  "language_info": {
   "codemirror_mode": {
    "name": "ipython",
    "version": 3
   },
   "file_extension": ".py",
   "mimetype": "text/x-python",
   "name": "python",
   "nbconvert_exporter": "python",
   "pygments_lexer": "ipython3",
   "version": "3.6.10"
  }
 },
 "nbformat": 4,
 "nbformat_minor": 4
}
