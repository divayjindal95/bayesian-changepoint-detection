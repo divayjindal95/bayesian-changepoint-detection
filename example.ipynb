{
 "cells": [
  {
   "cell_type": "code",
   "execution_count": 1,
   "metadata": {},
   "outputs": [],
   "source": [
    "from __future__ import division\n",
    "import numpy as np\n",
    "from scipy import stats"
   ]
  },
  {
   "cell_type": "code",
   "execution_count": 25,
   "metadata": {},
   "outputs": [
    {
     "name": "stdout",
     "output_type": "stream",
     "text": [
      "/Users/divay/Documents/work/DATANALYTICS/personalization-user-artist-vectors/notebooks\n"
     ]
    }
   ],
   "source": [
    "!pwd"
   ]
  },
  {
   "cell_type": "code",
   "execution_count": 4,
   "metadata": {},
   "outputs": [],
   "source": [
    "from functools import partial"
   ]
  },
  {
   "cell_type": "code",
   "execution_count": 1,
   "metadata": {},
   "outputs": [],
   "source": [
    "def online_changepoint_detection(data, hazard_func, observation_likelihood):\n",
    "    maxes = np.zeros(len(data) + 1)\n",
    "    \n",
    "    R = np.zeros((len(data) + 1, len(data) + 1))\n",
    "    R[0, 0] = 1\n",
    "    \n",
    "    for t, x in enumerate(data):\n",
    "        # Evaluate the predictive distribution for the new datum under each of\n",
    "        # the parameters.  This is the standard thing from Bayesian inference.\n",
    "        predprobs = observation_likelihood.pdf(x)\n",
    "        \n",
    "        # Evaluate the hazard function for this interval\n",
    "        H = hazard_func(np.array(range(t+1)))\n",
    "       \n",
    "        # Evaluate the growth probabilities - shift the probabilities down and to\n",
    "        # the right, scaled by the hazard function and the predictive\n",
    "        # probabilities.\n",
    "        R[1:t+2, t+1] = R[0:t+1, t] * predprobs * (1-H)\n",
    "        \n",
    "        # Evaluate the probability that there *was* a changepoint and we're\n",
    "        # accumulating the mass back down at r = 0.\n",
    "        R[0, t+1] = np.sum( R[0:t+1, t] * predprobs * H)\n",
    "        \n",
    "        # Renormalize the run length probabilities for improved numerical\n",
    "        # stability.\n",
    "        R[:, t+1] = R[:, t+1] / np.sum(R[:, t+1])\n",
    "        \n",
    "        # Update the parameter sets for each possible run length.\n",
    "        observation_likelihood.update_theta(x)\n",
    "    \n",
    "        maxes[t] = R[:, t].argmax()\n",
    "    return R, maxes"
   ]
  },
  {
   "cell_type": "code",
   "execution_count": 1,
   "metadata": {},
   "outputs": [],
   "source": [
    "def constant_hazard(lam, r):\n",
    "    return 1/lam * np.ones(r.shape)"
   ]
  },
  {
   "cell_type": "code",
   "execution_count": 1,
   "metadata": {},
   "outputs": [],
   "source": [
    "class StudentT:\n",
    "    def __init__(self, alpha, beta, kappa, mu):\n",
    "        self.alpha0 = self.alpha = np.array([alpha])\n",
    "        self.beta0 = self.beta = np.array([beta])\n",
    "        self.kappa0 = self.kappa = np.array([kappa])\n",
    "        self.mu0 = self.mu = np.array([mu])\n",
    "\n",
    "    def pdf(self, data):\n",
    "        return stats.t.pdf(x=data, \n",
    "                           df=2*self.alpha,\n",
    "                           loc=self.mu,\n",
    "                           scale=np.sqrt(self.beta * (self.kappa+1) / (self.alpha *\n",
    "                               self.kappa)))\n",
    "\n",
    "    def update_theta(self, data):\n",
    "        muT0 = np.concatenate((self.mu0, (self.kappa * self.mu + data) / (self.kappa + 1)))\n",
    "        kappaT0 = np.concatenate((self.kappa0, self.kappa + 1.))\n",
    "        alphaT0 = np.concatenate((self.alpha0, self.alpha + 0.5))\n",
    "        betaT0 = np.concatenate((self.beta0, self.beta + (self.kappa * (data -\n",
    "            self.mu)**2) / (2. * (self.kappa + 1.))))\n",
    "            \n",
    "        self.mu = muT0\n",
    "        self.kappa = kappaT0\n",
    "        self.alpha = alphaT0\n",
    "        self.beta = betaT0"
   ]
  },
  {
   "cell_type": "code",
   "execution_count": 13,
   "metadata": {},
   "outputs": [],
   "source": [
    "data = [1,3,0,0]"
   ]
  },
  {
   "cell_type": "code",
   "execution_count": 14,
   "metadata": {},
   "outputs": [],
   "source": [
    "a,b = online_changepoint_detection(data, partial(constant_hazard, 250), StudentT(10, .03, 1, 0))"
   ]
  },
  {
   "cell_type": "code",
   "execution_count": 15,
   "metadata": {},
   "outputs": [
    {
     "name": "stdout",
     "output_type": "stream",
     "text": [
      "[[1.00000000e+00 4.00000000e-03 4.00000000e-03 4.00000000e-03\n",
      "  4.00000000e-03]\n",
      " [0.00000000e+00 9.96000000e-01 2.85265914e-12 3.24324646e-01\n",
      "  9.75320585e-03]\n",
      " [0.00000000e+00 0.00000000e+00 9.96000000e-01 1.37562376e-12\n",
      "  9.36245130e-01]\n",
      " [0.00000000e+00 0.00000000e+00 0.00000000e+00 6.71675354e-01\n",
      "  1.12177227e-13]\n",
      " [0.00000000e+00 0.00000000e+00 0.00000000e+00 0.00000000e+00\n",
      "  5.00016638e-02]]\n"
     ]
    }
   ],
   "source": [
    "print(a)"
   ]
  },
  {
   "cell_type": "code",
   "execution_count": 21,
   "metadata": {},
   "outputs": [
    {
     "data": {
      "text/plain": [
       "array([9.03908841e-20])"
      ]
     },
     "execution_count": 21,
     "metadata": {},
     "output_type": "execute_result"
    }
   ],
   "source": [
    "StudentT(10, .03, 1, 0).pdf(data[1])*(249/250)"
   ]
  },
  {
   "cell_type": "code",
   "execution_count": 22,
   "metadata": {},
   "outputs": [
    {
     "data": {
      "text/plain": [
       "array([3.63015599e-22])"
      ]
     },
     "execution_count": 22,
     "metadata": {},
     "output_type": "execute_result"
    }
   ],
   "source": [
    "StudentT(10, .03, 1, 0).pdf(data[1])*(1/250)"
   ]
  },
  {
   "cell_type": "code",
   "execution_count": 24,
   "metadata": {},
   "outputs": [
    {
     "data": {
      "text/plain": [
       "0.004000000002247837"
      ]
     },
     "execution_count": 24,
     "metadata": {},
     "output_type": "execute_result"
    }
   ],
   "source": [
    "3.63015599e-22/(9.03908841e-20+3.63015599e-22)"
   ]
  }
 ],
 "metadata": {
  "kernelspec": {
   "display_name": "Python 3",
   "language": "python",
   "name": "python3"
  },
  "language_info": {
   "codemirror_mode": {
    "name": "ipython",
    "version": 3
   },
   "file_extension": ".py",
   "mimetype": "text/x-python",
   "name": "python",
   "nbconvert_exporter": "python",
   "pygments_lexer": "ipython3",
   "version": "3.6.10"
  }
 },
 "nbformat": 4,
 "nbformat_minor": 4
}
